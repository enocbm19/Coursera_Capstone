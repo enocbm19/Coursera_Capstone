{
 "cells": [
  {
   "cell_type": "markdown",
   "id": "10f69cc3-6d1e-4460-bf3f-a61009c66c8b",
   "metadata": {},
   "source": [
    "# Coursera's Capstone Project"
   ]
  },
  {
   "cell_type": "markdown",
   "id": "cfdb0e76-907f-43bd-9476-3155502cf732",
   "metadata": {},
   "source": [
    "This notebook will be mainly used for the capstone project."
   ]
  },
  {
   "cell_type": "code",
   "execution_count": 3,
   "id": "2ed8a7e1-733a-43ef-bd83-1633b70e7883",
   "metadata": {},
   "outputs": [],
   "source": [
    "import pandas as pd\n",
    "import numpy as np"
   ]
  },
  {
   "cell_type": "code",
   "execution_count": 4,
   "id": "3dcd803e-8398-4399-b378-c9849146ab0c",
   "metadata": {},
   "outputs": [
    {
     "name": "stdout",
     "output_type": "stream",
     "text": [
      "Hello Capstone Project Course!\n"
     ]
    }
   ],
   "source": [
    "print('Hello Capstone Project Course!')"
   ]
  },
  {
   "cell_type": "code",
   "execution_count": null,
   "id": "c952ea4d-a246-4b28-9891-3d51c51ac833",
   "metadata": {},
   "outputs": [],
   "source": []
  }
 ],
 "metadata": {
  "kernelspec": {
   "display_name": "Python 3",
   "language": "python",
   "name": "python3"
  },
  "language_info": {
   "codemirror_mode": {
    "name": "ipython",
    "version": 3
   },
   "file_extension": ".py",
   "mimetype": "text/x-python",
   "name": "python",
   "nbconvert_exporter": "python",
   "pygments_lexer": "ipython3",
   "version": "3.8.8"
  }
 },
 "nbformat": 4,
 "nbformat_minor": 5
}
